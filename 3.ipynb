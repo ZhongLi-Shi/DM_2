{
 "cells": [
  {
   "cell_type": "code",
   "execution_count": 1,
   "metadata": {
    "collapsed": true,
    "pycharm": {
     "is_executing": false
    }
   },
   "outputs": [
    {
     "data": {
      "text/plain": "'\\n此次作业采用红酒数据，缺省值的处理方法为直接舍去\\n'"
     },
     "metadata": {},
     "output_type": "execute_result",
     "execution_count": 1
    }
   ],
   "source": [
    "'''\n",
    "此次作业采用红酒数据，缺省值的处理方法为直接舍去\n",
    "'''"
   ]
  },
  {
   "cell_type": "code",
   "execution_count": 2,
   "outputs": [],
   "source": [
    "import numpy as np\n",
    "import pandas as pd\n",
    "import json\n",
    "import matplotlib.pyplot as plt"
   ],
   "metadata": {
    "collapsed": false,
    "pycharm": {
     "name": "#%%\n",
     "is_executing": false
    }
   }
  },
  {
   "cell_type": "code",
   "execution_count": 3,
   "outputs": [],
   "source": [
    "wine_data = pd.read_csv('data\\\\wine.csv')"
   ],
   "metadata": {
    "collapsed": false,
    "pycharm": {
     "name": "#%%\n",
     "is_executing": false
    }
   }
  },
  {
   "cell_type": "code",
   "execution_count": 4,
   "outputs": [],
   "source": [
    "'''\n",
    "进行关联挖掘的属性列表\n",
    "由于'description'对于每一项记录均不同，因此此处舍去\n",
    "'''\n",
    "attr_list = ['country', 'designation', 'points', 'price','province', 'region_1', 'region_2', 'variety', 'winery']"
   ],
   "metadata": {
    "collapsed": false,
    "pycharm": {
     "name": "#%%\n",
     "is_executing": false
    }
   }
  },
  {
   "cell_type": "code",
   "execution_count": 5,
   "outputs": [
    {
     "name": "stdout",
     "text": [
      "       country                    designation points price    province  \\\n0           US              Martha's Vineyard      1   1.0  California   \n2           US  Special Selected Late Harvest      1   1.0  California   \n3           US                        Reserve      1   1.0      Oregon   \n8           US                         Silice      1   1.0      Oregon   \n9           US           Gap's Crown Vineyard      1   1.0  California   \n...        ...                            ...    ...   ...         ...   \n150889      US                Lafond Vineyard      0   0.0  California   \n150892      US                        Coastal      0   0.0  California   \n150914      US    Late Harvest Cluster Select      1   0.0  California   \n150915      US                    Nightingale      1   0.0  California   \n150916      US                      J. Schram      1   1.0  California   \n\n                  region_1                 region_2             variety  \\\n0              Napa Valley                     Napa  Cabernet Sauvignon   \n2           Knights Valley                   Sonoma     Sauvignon Blanc   \n3        Willamette Valley        Willamette Valley          Pinot Noir   \n8       Chehalem Mountains        Willamette Valley          Pinot Noir   \n9             Sonoma Coast                   Sonoma          Pinot Noir   \n...                    ...                      ...                 ...   \n150889   Santa Ynez Valley            Central Coast          Pinot Noir   \n150892          California         California Other              Merlot   \n150914     Anderson Valley  Mendocino/Lake Counties      White Riesling   \n150915         North Coast              North Coast         White Blend   \n150916         Napa Valley                     Napa     Champagne Blend   \n\n             winery  \n0             Heitz  \n2          Macauley  \n3             Ponzi  \n8         Bergström  \n9         Blue Farm  \n...             ...  \n150889       Lafond  \n150892     Callaway  \n150914      Navarro  \n150915     Beringer  \n150916  Schramsberg  \n\n[39241 rows x 9 columns]\n"
     ],
     "output_type": "stream"
    },
    {
     "name": "stderr",
     "text": [
      "D:\\tool\\anaconda\\lib\\site-packages\\pandas\\core\\indexing.py:494: SettingWithCopyWarning: \nA value is trying to be set on a copy of a slice from a DataFrame.\nTry using .loc[row_indexer,col_indexer] = value instead\n\nSee the caveats in the documentation: http://pandas.pydata.org/pandas-docs/stable/user_guide/indexing.html#returning-a-view-versus-a-copy\n  self.obj[item] = s\nD:\\tool\\anaconda\\lib\\site-packages\\ipykernel_launcher.py:14: SettingWithCopyWarning: \nA value is trying to be set on a copy of a slice from a DataFrame.\nTry using .loc[row_indexer,col_indexer] = value instead\n\nSee the caveats in the documentation: http://pandas.pydata.org/pandas-docs/stable/user_guide/indexing.html#returning-a-view-versus-a-copy\n  \nD:\\tool\\anaconda\\lib\\site-packages\\ipykernel_launcher.py:15: SettingWithCopyWarning: \nA value is trying to be set on a copy of a slice from a DataFrame.\nTry using .loc[row_indexer,col_indexer] = value instead\n\nSee the caveats in the documentation: http://pandas.pydata.org/pandas-docs/stable/user_guide/indexing.html#returning-a-view-versus-a-copy\n  from ipykernel import kernelapp as app\n"
     ],
     "output_type": "stream"
    }
   ],
   "source": [
    "'''\n",
    "'points', 'price'为数值属性，做离散化处理。\n",
    "认为大于均值的为1， 小于等于均值的为0\n",
    "'''\n",
    "data = wine_data.dropna()\n",
    "\n",
    "mean_points, mean_price = data['points'].mean(), data['price'].mean()\n",
    "points_index_1, points_index_0 = data['points'] > mean_points, data['points'] <= mean_points\n",
    "price_index_1, price_index_0 = data['price'] > mean_price, data['price'] <= mean_price\n",
    "\n",
    "data.loc[points_index_1, 'points'], data.loc[points_index_0, 'points']= 1, 0\n",
    "data.loc[price_index_1, 'price'], data.loc[price_index_0, 'price']= 1, 0\n",
    "\n",
    "data['points'] = data['points'].astype(str)\n",
    "data['price'] = data['price'].astype(str)\n",
    "data = data[attr_list]\n",
    "print(data)"
   ],
   "metadata": {
    "collapsed": false,
    "pycharm": {
     "name": "#%%\n",
     "is_executing": false
    }
   }
  },
  {
   "cell_type": "code",
   "execution_count": 6,
   "outputs": [],
   "source": [
    "'''\n",
    "构建记录\n",
    "'''\n",
    "transactions = [ tuple(x) for x in data.values.tolist()]\n"
   ],
   "metadata": {
    "collapsed": false,
    "pycharm": {
     "name": "#%%\n",
     "is_executing": false
    }
   }
  },
  {
   "cell_type": "code",
   "execution_count": 7,
   "outputs": [],
   "source": [
    "from efficient_apriori import apriori"
   ],
   "metadata": {
    "collapsed": false,
    "pycharm": {
     "name": "#%%\n",
     "is_executing": false
    }
   }
  },
  {
   "cell_type": "code",
   "execution_count": 8,
   "outputs": [],
   "source": [
    "'''\n",
    "对数据进行关联规则挖掘.\n",
    "这里设定最小支持度为0.2，最小置信度为0.6\n",
    "'''\n",
    "min_support = 0.2\n",
    "min_confidence = 0.6\n",
    "itemsets, rules = apriori(transactions, min_support=min_support, min_confidence=min_confidence)"
   ],
   "metadata": {
    "collapsed": false,
    "pycharm": {
     "name": "#%%\n",
     "is_executing": false
    }
   }
  },
  {
   "cell_type": "code",
   "execution_count": 9,
   "outputs": [
    {
     "name": "stdout",
     "text": [
      "{1: {('California',): 28557, ('US',): 39241, ('1.0',): 15767, ('1',): 18434, ('0.0',): 23474, ('Central Coast',): 9150, ('0',): 20807}, 2: {('1', '1.0'): 11003, ('1', 'California'): 12955, ('1', 'US'): 18434, ('1.0', 'California'): 12449, ('1.0', 'US'): 15767, ('California', 'US'): 28557, ('0.0', 'California'): 16108, ('0.0', 'US'): 23474, ('California', 'Central Coast'): 9150, ('Central Coast', 'US'): 9150, ('0', '0.0'): 16043, ('0', 'California'): 15602, ('0', 'US'): 20807}, 3: {('1', '1.0', 'California'): 8367, ('1', '1.0', 'US'): 11003, ('1', 'California', 'US'): 12955, ('1.0', 'California', 'US'): 12449, ('0.0', 'California', 'US'): 16108, ('California', 'Central Coast', 'US'): 9150, ('0', '0.0', 'California'): 11520, ('0', '0.0', 'US'): 16043, ('0', 'California', 'US'): 15602}, 4: {('1', '1.0', 'California', 'US'): 8367, ('0', '0.0', 'California', 'US'): 11520}}\n"
     ],
     "output_type": "stream"
    }
   ],
   "source": [
    "'''\n",
    "频繁项集\n",
    "'''\n",
    "print(itemsets)"
   ],
   "metadata": {
    "collapsed": false,
    "pycharm": {
     "name": "#%%\n",
     "is_executing": false
    }
   }
  },
  {
   "cell_type": "code",
   "execution_count": 10,
   "outputs": [
    {
     "name": "stdout",
     "text": [
      "{0.0} -> {California} (conf: 0.686, supp: 0.410, lift: 0.943, conv: 0.868)\n{0.0, US} -> {California} (conf: 0.686, supp: 0.410, lift: 0.943, conv: 0.868)\n{0.0} -> {California, US} (conf: 0.686, supp: 0.410, lift: 0.943, conv: 0.868)\n{1} -> {California} (conf: 0.703, supp: 0.330, lift: 0.966, conv: 0.916)\n{1, US} -> {California} (conf: 0.703, supp: 0.330, lift: 0.966, conv: 0.916)\n{1} -> {California, US} (conf: 0.703, supp: 0.330, lift: 0.966, conv: 0.916)\n{0, 0.0} -> {California} (conf: 0.718, supp: 0.294, lift: 0.987, conv: 0.966)\n{0, 0.0, US} -> {California} (conf: 0.718, supp: 0.294, lift: 0.987, conv: 0.966)\n{0, 0.0} -> {California, US} (conf: 0.718, supp: 0.294, lift: 0.987, conv: 0.966)\n{1} -> {US} (conf: 1.000, supp: 0.470, lift: 1.000, conv: 0.000)\n{1.0} -> {US} (conf: 1.000, supp: 0.402, lift: 1.000, conv: 0.000)\n{US} -> {California} (conf: 0.728, supp: 0.728, lift: 1.000, conv: 1.000)\n{California} -> {US} (conf: 1.000, supp: 0.728, lift: 1.000, conv: 0.000)\n{0.0} -> {US} (conf: 1.000, supp: 0.598, lift: 1.000, conv: 0.000)\n{Central Coast} -> {US} (conf: 1.000, supp: 0.233, lift: 1.000, conv: 0.000)\n{0} -> {US} (conf: 1.000, supp: 0.530, lift: 1.000, conv: 0.000)\n{1, 1.0} -> {US} (conf: 1.000, supp: 0.280, lift: 1.000, conv: 0.000)\n{1, California} -> {US} (conf: 1.000, supp: 0.330, lift: 1.000, conv: 0.000)\n{1.0, California} -> {US} (conf: 1.000, supp: 0.317, lift: 1.000, conv: 0.000)\n{0.0, California} -> {US} (conf: 1.000, supp: 0.410, lift: 1.000, conv: 0.000)\n{California, Central Coast} -> {US} (conf: 1.000, supp: 0.233, lift: 1.000, conv: 0.000)\n{0, 0.0} -> {US} (conf: 1.000, supp: 0.409, lift: 1.000, conv: 0.000)\n{0, California} -> {US} (conf: 1.000, supp: 0.398, lift: 1.000, conv: 0.000)\n{1, 1.0, California} -> {US} (conf: 1.000, supp: 0.213, lift: 1.000, conv: 0.000)\n{0, 0.0, California} -> {US} (conf: 1.000, supp: 0.294, lift: 1.000, conv: 0.000)\n{0} -> {California} (conf: 0.750, supp: 0.398, lift: 1.030, conv: 1.088)\n{0, US} -> {California} (conf: 0.750, supp: 0.398, lift: 1.030, conv: 1.088)\n{0} -> {California, US} (conf: 0.750, supp: 0.398, lift: 1.030, conv: 1.088)\n{1, 1.0} -> {California} (conf: 0.760, supp: 0.213, lift: 1.045, conv: 1.136)\n{1, 1.0, US} -> {California} (conf: 0.760, supp: 0.213, lift: 1.045, conv: 1.136)\n{1, 1.0} -> {California, US} (conf: 0.760, supp: 0.213, lift: 1.045, conv: 1.136)\n{1.0} -> {California} (conf: 0.790, supp: 0.317, lift: 1.085, conv: 1.294)\n{1.0, US} -> {California} (conf: 0.790, supp: 0.317, lift: 1.085, conv: 1.294)\n{1.0} -> {California, US} (conf: 0.790, supp: 0.317, lift: 1.085, conv: 1.294)\n{0, California} -> {0.0} (conf: 0.738, supp: 0.294, lift: 1.234, conv: 1.536)\n{0, California, US} -> {0.0} (conf: 0.738, supp: 0.294, lift: 1.234, conv: 1.536)\n{0, California} -> {0.0, US} (conf: 0.738, supp: 0.294, lift: 1.234, conv: 1.536)\n{0.0} -> {0} (conf: 0.683, supp: 0.409, lift: 1.289, conv: 1.484)\n{0} -> {0.0} (conf: 0.771, supp: 0.409, lift: 1.289, conv: 1.755)\n{0.0, US} -> {0} (conf: 0.683, supp: 0.409, lift: 1.289, conv: 1.484)\n{0, US} -> {0.0} (conf: 0.771, supp: 0.409, lift: 1.289, conv: 1.755)\n{0.0} -> {0, US} (conf: 0.683, supp: 0.409, lift: 1.289, conv: 1.484)\n{0} -> {0.0, US} (conf: 0.771, supp: 0.409, lift: 1.289, conv: 1.755)\n{0.0, California} -> {0} (conf: 0.715, supp: 0.294, lift: 1.349, conv: 1.649)\n{0.0, California, US} -> {0} (conf: 0.715, supp: 0.294, lift: 1.349, conv: 1.649)\n{0.0, California} -> {0, US} (conf: 0.715, supp: 0.294, lift: 1.349, conv: 1.649)\n{Central Coast} -> {California} (conf: 1.000, supp: 0.233, lift: 1.374, conv: 272266252.134)\n{Central Coast, US} -> {California} (conf: 1.000, supp: 0.233, lift: 1.374, conv: 272266252.134)\n{Central Coast} -> {California, US} (conf: 1.000, supp: 0.233, lift: 1.374, conv: 272266252.134)\n{1.0, California} -> {1} (conf: 0.672, supp: 0.213, lift: 1.431, conv: 1.617)\n{1.0, California, US} -> {1} (conf: 0.672, supp: 0.213, lift: 1.431, conv: 1.617)\n{1.0, California} -> {1, US} (conf: 0.672, supp: 0.213, lift: 1.431, conv: 1.617)\n{1.0} -> {1} (conf: 0.698, supp: 0.280, lift: 1.486, conv: 1.755)\n{1.0, US} -> {1} (conf: 0.698, supp: 0.280, lift: 1.486, conv: 1.755)\n{1.0} -> {1, US} (conf: 0.698, supp: 0.280, lift: 1.486, conv: 1.755)\n{1, California} -> {1.0} (conf: 0.646, supp: 0.213, lift: 1.607, conv: 1.689)\n{1, California, US} -> {1.0} (conf: 0.646, supp: 0.213, lift: 1.607, conv: 1.689)\n{1, California} -> {1.0, US} (conf: 0.646, supp: 0.213, lift: 1.607, conv: 1.689)\n"
     ],
     "output_type": "stream"
    },
    {
     "data": {
      "text/plain": "'\\n根据lift与conviction指标,可以有一下几个结论:\\n1.来自California的红酒评价越高，价格也越贵\\n2.美国产出的红酒大部分来自于California\\n'"
     },
     "metadata": {},
     "output_type": "execute_result",
     "execution_count": 10
    }
   ],
   "source": [
    "'''\n",
    "关联规则\n",
    "'''\n",
    "for rule in sorted(rules, key = lambda rule: rule.lift):\n",
    "    print(rule)\n",
    "\n",
    "'''\n",
    "根据lift与conviction指标,可以有一下几个结论:\n",
    "1.来自California的红酒评价越高，价格也越贵\n",
    "2.美国产出的红酒大部分来自于California\n",
    "'''"
   ],
   "metadata": {
    "collapsed": false,
    "pycharm": {
     "name": "#%%\n",
     "is_executing": false
    }
   }
  },
  {
   "cell_type": "code",
   "execution_count": 16,
   "outputs": [
    {
     "data": {
      "text/plain": "'\\n可视化\\n绘制 置信度~支持度关于提升度的散点图\\n可以看出规则的提升图与置信度一般都很高\\n'"
     },
     "metadata": {},
     "output_type": "execute_result",
     "execution_count": 16
    }
   ],
   "source": [
    "'''\n",
    "可视化\n",
    "绘制 置信度~支持度关于提升度的散点图\n",
    "可以看出规则的提升图与置信度一般都很高\n",
    "'''"
   ],
   "metadata": {
    "collapsed": false,
    "pycharm": {
     "name": "#%%\n",
     "is_executing": false
    }
   }
  },
  {
   "cell_type": "code",
   "execution_count": 17,
   "outputs": [
    {
     "data": {
      "text/plain": "<Figure size 432x288 with 2 Axes>",
      "image/png": "[encoded data removed]"
     },
     "metadata": {
      "needs_background": "light"
     },
     "output_type": "display_data"
    }
   ],
   "source": [
    "x = [rule.confidence for rule in rules]\n",
    "y = [rule.support for rule in rules]\n",
    "z = [rule.lift for rule in rules]\n",
    "plt.scatter(x, y, c=z, cmap='viridis')\n",
    "plt.xlabel('confidence')\n",
    "plt.ylabel('support')\n",
    "plt.colorbar()\n",
    "plt.show()\n"
   ],
   "metadata": {
    "collapsed": false,
    "pycharm": {
     "name": "#%%\n",
     "is_executing": false
    }
   }
  },
  {
   "cell_type": "code",
   "execution_count": 18,
   "outputs": [
    {
     "data": {
      "text/plain": "<Figure size 432x288 with 2 Axes>",
      "image/png": "[encoded data removed]"
     },
     "metadata": {
      "needs_background": "light"
     },
     "output_type": "display_data"
    }
   ],
   "source": [
    "x = [rule.lift for rule in rules]  \n",
    "y = [rule.support for rule in rules]\n",
    "z = [rule.confidence for rule in rules]\n",
    "plt.scatter(x, y, c=z, cmap='viridis')\n",
    "plt.xlabel('lift')\n",
    "plt.ylabel('support')\n",
    "plt.colorbar()\n",
    "plt.show()"
   ],
   "metadata": {
    "collapsed": false,
    "pycharm": {
     "name": "#%%\n",
     "is_executing": false
    }
   }
  }
 ],
 "metadata": {
  "language_info": {
   "codemirror_mode": {
    "name": "ipython",
    "version": 2
   },
   "file_extension": ".py",
   "mimetype": "text/x-python",
   "name": "python",
   "nbconvert_exporter": "python",
   "pygments_lexer": "ipython2",
   "version": "2.7.6"
  },
  "kernelspec": {
   "name": "python3",
   "language": "python",
   "display_name": "Python 3"
  },
  "pycharm": {
   "stem_cell": {
    "cell_type": "raw",
    "source": [],
    "metadata": {
     "collapsed": false
    }
   }
  }
 },
 "nbformat": 4,
 "nbformat_minor": 0
}